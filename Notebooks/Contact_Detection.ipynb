{
  "nbformat": 4,
  "nbformat_minor": 0,
  "metadata": {
    "colab": {
      "name": "Contact Detection.ipynb",
      "provenance": [],
      "collapsed_sections": [
        "n3qOTTia9kNB",
        "BYci6or191qI",
        "cOVVUsQEmOFh",
        "S2jq-k3BqNS9",
        "WVXN7wWaqRRE",
        "38a4KTnHqYZn",
        "ASwolU4Hqa_d",
        "uXrt8fouYx2_",
        "OCyoSyJAyyhV",
        "no-_atxwDed5",
        "kRuJz4IGxah5",
        "-8v6cPwLxg8P",
        "QzN9volPxmdr",
        "vCxghKoOhPD_",
        "HNLY-pXMGhOa",
        "N3jFLB2MGmzB",
        "y5R0jU1RGpsK",
        "hYNABfWxGqoX",
        "kDjHso2JGref",
        "HupH9mCFGsbe"
      ],
      "toc_visible": true,
      "authorship_tag": "ABX9TyOpDDmC98cce4nqmWEHPYmZ",
      "include_colab_link": true
    },
    "kernelspec": {
      "name": "python3",
      "display_name": "Python 3"
    },
    "language_info": {
      "name": "python"
    }
  },
  "cells": [
    {
      "cell_type": "markdown",
      "metadata": {
        "id": "view-in-github",
        "colab_type": "text"
      },
      "source": [
        "<a href=\"https://colab.research.google.com/github/cisimon7/ContactDetector/blob/master/Notebooks/Contact_Detection.ipynb\" target=\"_parent\"><img src=\"https://colab.research.google.com/assets/colab-badge.svg\" alt=\"Open In Colab\"/></a>"
      ]
    },
    {
      "cell_type": "markdown",
      "metadata": {
        "id": "Q9fMzLuAUYcg"
      },
      "source": [
        "<h1 align=\"center\"><b>Contact Detection Algorithm for a Robot</b></h1>\n",
        "<h3><i>...</i></h3>"
      ]
    },
    {
      "cell_type": "markdown",
      "metadata": {
        "id": "n3qOTTia9kNB"
      },
      "source": [
        "###<b>Imports</b>"
      ]
    },
    {
      "cell_type": "code",
      "metadata": {
        "id": "PLCbgxiXJ9CJ"
      },
      "source": [
        "from IPython.display import clear_output \n",
        "!pip install casadi\n",
        "clear_output()"
      ],
      "execution_count": null,
      "outputs": []
    },
    {
      "cell_type": "code",
      "metadata": {
        "id": "mzOOfEbI-rqs"
      },
      "source": [
        "import numpy as np\n",
        "import casadi as csd\n",
        "from scipy import signal\n",
        "from functools import reduce\n",
        "from casadi import MX, SX, DM, Function\n",
        "np.set_printoptions(linewidth=200, precision=4, suppress=True)"
      ],
      "execution_count": null,
      "outputs": []
    },
    {
      "cell_type": "code",
      "metadata": {
        "id": "HdzglNFuCK0E"
      },
      "source": [
        "import plotly.graph_objects as go\n",
        "from plotly.subplots import make_subplots"
      ],
      "execution_count": null,
      "outputs": []
    },
    {
      "cell_type": "markdown",
      "metadata": {
        "id": "BYci6or191qI"
      },
      "source": [
        "###<b>Utility Functions</b>"
      ]
    },
    {
      "cell_type": "markdown",
      "metadata": {
        "id": "cOVVUsQEmOFh"
      },
      "source": [
        "#####<i>3x3 Zero Matrix Definition</i>"
      ]
    },
    {
      "cell_type": "code",
      "metadata": {
        "id": "PI27mdwqYw-2"
      },
      "source": [
        "zero_mat = SX.zeros((3,3))\n",
        "eye_mat  = SX.ones((3,3))"
      ],
      "execution_count": null,
      "outputs": []
    },
    {
      "cell_type": "markdown",
      "metadata": {
        "id": "S2jq-k3BqNS9"
      },
      "source": [
        "#####<i>Rotation Matrices Functions</i>"
      ]
    },
    {
      "cell_type": "code",
      "metadata": {
        "id": "6udj9w1TphVd"
      },
      "source": [
        "def Rx(q):\n",
        "  T = csd.vertcat(\n",
        "          csd.horzcat(1,         0,            0, 0),\n",
        "          csd.horzcat(0, csd.cos(q), -csd.sin(q), 0),\n",
        "          csd.horzcat(0, csd.sin(q),  csd.cos(q), 0),\n",
        "          csd.horzcat(0,         0,            0, 1)\n",
        "      )\n",
        "  return T\n",
        "\n",
        "def Ry(q):\n",
        "  T = csd.vertcat(\n",
        "          csd.horzcat( csd.cos(q), 0, csd.sin(q), 0),\n",
        "          csd.horzcat(         0,  1,          0, 0),\n",
        "          csd.horzcat(-csd.sin(q), 0, csd.cos(q), 0),\n",
        "          csd.horzcat(         0,  0,          0, 1)\n",
        "      )\n",
        "  return T\n",
        "\n",
        "def Rz(q):\n",
        "  T = csd.vertcat(\n",
        "          csd.horzcat(csd.cos(q), -csd.sin(q), 0, 0),\n",
        "          csd.horzcat(csd.sin(q),  csd.cos(q), 0, 0),\n",
        "          csd.horzcat(        0,           0,  1, 0),\n",
        "          csd.horzcat(        0,           0,  0, 1)\n",
        "      )\n",
        "  return T\n",
        "\n",
        "def R_xyz(qx, qy, qz):\n",
        "  return (Rx(qx) @ Ry(qy) @ Rz(qz))"
      ],
      "execution_count": null,
      "outputs": []
    },
    {
      "cell_type": "markdown",
      "metadata": {
        "id": "WVXN7wWaqRRE"
      },
      "source": [
        "#####<i>Rotation Derivative Matrices</i>"
      ]
    },
    {
      "cell_type": "code",
      "metadata": {
        "id": "cxBz18DRpxzW"
      },
      "source": [
        "def dRx(q):\n",
        "  T = csd.vertcat(\n",
        "          csd.horzcat(0,          0,            0, 0),\n",
        "          csd.horzcat(0, -csd.sin(q), -csd.cos(q), 0),\n",
        "          csd.horzcat(0,  csd.cos(q), -csd.sin(q), 0),\n",
        "          csd.horzcat(0,          0,            0, 0)\n",
        "       )\n",
        "  return T\n",
        "\n",
        "def dRy(q):\n",
        "  T = csd.vertcat(\n",
        "          csd.horzcat(-csd.sin(q), 0,  csd.cos(q), 0),\n",
        "          csd.horzcat(         0,  0,           0, 0),\n",
        "          csd.horzcat(-csd.cos(q), 0, -csd.sin(q), 0),\n",
        "          csd.horzcat(         0,  0,           0, 0)\n",
        "      )\n",
        "  return T\n",
        "\n",
        "def dRz(q):\n",
        "  T = csd.vertcat(\n",
        "          csd.horzcat(-csd.sin(q), -csd.cos(q), 0, 0),\n",
        "          csd.horzcat( csd.cos(q), -csd.sin(q), 0, 0),\n",
        "          csd.horzcat(         0,          0,   0, 0),\n",
        "          csd.horzcat(         0,          0,   0, 0)\n",
        "      )\n",
        "  return T\n",
        "\n",
        "def R_dxyz(dqx, qy, qz):\n",
        "  return (dRx(dqx) @ Ry(qy) @ Rz(qz))\n",
        "\n",
        "def R_xdyz(qx, dqy, qz):\n",
        "  return (Rx(qx) @ dRy(dqy) @ Rz(qz))\n",
        "\n",
        "def R_xydz(qx, qy, dqz):\n",
        "  return (Rx(qx) @ Ry(qy) @ dRz(dqz))"
      ],
      "execution_count": null,
      "outputs": []
    },
    {
      "cell_type": "markdown",
      "metadata": {
        "id": "38a4KTnHqYZn"
      },
      "source": [
        "#####<i>Translation Matrices</i>"
      ]
    },
    {
      "cell_type": "code",
      "metadata": {
        "id": "vgu1J8eap0Yl"
      },
      "source": [
        "def Tx(x):\n",
        "  T = csd.vertcat(\n",
        "          csd.horzcat(1, 0, 0, x),\n",
        "          csd.horzcat(0, 1, 0, 0),\n",
        "          csd.horzcat(0, 0, 1, 0),\n",
        "          csd.horzcat(0, 0, 0, 1)\n",
        "      )\n",
        "  return T\n",
        "\n",
        "def Ty(y):\n",
        "  T = csd.vertcat(\n",
        "          csd.horzcat(1, 0, 0, 0),\n",
        "          csd.horzcat(0, 1, 0, y),\n",
        "          csd.horzcat(0, 0, 1, 0),\n",
        "          csd.horzcat(0, 0, 0, 1)\n",
        "      )\n",
        "  return T\n",
        "\n",
        "def Tz(z):\n",
        "  T = csd.vertcat(\n",
        "          csd.horzcat(1, 0, 0, 0),\n",
        "          csd.horzcat(0, 1, 0, 0),\n",
        "          csd.horzcat(0, 0, 1, z),\n",
        "          csd.horzcat(0, 0, 0, 1)\n",
        "      )\n",
        "  return T\n",
        "\n",
        "def T_xyz(x, y, z):\n",
        "  return (Tx(x) @ Ty(y) @ Tz(z))"
      ],
      "execution_count": null,
      "outputs": []
    },
    {
      "cell_type": "markdown",
      "metadata": {
        "id": "ASwolU4Hqa_d"
      },
      "source": [
        "#####<i>Translation Derivative Matrices</i>"
      ]
    },
    {
      "cell_type": "code",
      "metadata": {
        "id": "RrcGE8WepgLS"
      },
      "source": [
        "def dTx(x):\n",
        "  T = csd.vertcat(\n",
        "          csd.horzcat(0, 0, 0, 1),\n",
        "          csd.horzcat(0, 0, 0, 0),\n",
        "          csd.horzcat(0, 0, 0, 0),\n",
        "          csd.horzcat(0, 0, 0, 0)\n",
        "      )\n",
        "  return T\n",
        "\n",
        "def dTy(y):\n",
        "  T = csd.vertcat(\n",
        "          csd.horzcat(0, 0, 0, 0),\n",
        "          csd.horzcat(0, 0, 0, 1),\n",
        "          csd.horzcat(0, 0, 0, 0),\n",
        "          csd.horzcat(0, 0, 0, 0)\n",
        "      )\n",
        "  return T\n",
        "\n",
        "def dTz(z):\n",
        "  T = csd.vertcat(\n",
        "          csd.horzcat(0, 0, 0, 0),\n",
        "          csd.horzcat(0, 0, 0, 0),\n",
        "          csd.horzcat(0, 0, 0, 1),\n",
        "          csd.horzcat(0, 0, 0, 0)\n",
        "      )\n",
        "  return T\n",
        "\n",
        "def T_dxyz(dpx, py, pz):\n",
        "  return (dTx(dpx) @ Ty(py) @ Tz(pz))\n",
        "\n",
        "def T_xdyz(px, dpy, pz):\n",
        "  return (Tx(px) @ dTy(dpy) @ Tz(pz))\n",
        "\n",
        "def T_xydz(px, py, dpz):\n",
        "  return (Tx(px) @ Ty(py) @ dTz(dpz))"
      ],
      "execution_count": null,
      "outputs": []
    },
    {
      "cell_type": "markdown",
      "metadata": {
        "id": "uXrt8fouYx2_"
      },
      "source": [
        "#####<i>Calculus Functions</i>"
      ]
    },
    {
      "cell_type": "code",
      "metadata": {
        "id": "tDGQEY_yf5P0"
      },
      "source": [
        "def Mat_derivative(mat, var):\n",
        "  \"\"\"Accepts a matrix, and finds its element-wise derivative with respect to var\"\"\"\n",
        "  assert var.shape == (1,1), \"DIFFERENTIATING NOT WITH RESPECT TO A SINGLE VARIABLE, TRY Mat_gradient FUNCTION\"\n",
        "  n, m = mat.shape\n",
        "  return csd.vertcat(*[ csd.horzcat(*[csd.gradient(mat[i,j], var) for j in range(m)]) for i in range(n) ])"
      ],
      "execution_count": null,
      "outputs": []
    },
    {
      "cell_type": "code",
      "metadata": {
        "id": "GgpeBQyudS4D"
      },
      "source": [
        "def Mat_gradient(mat, vars, dvars):\n",
        "  \"\"\"Accepts a matrix and finds the element-wise gradient with respect to the vars variables, then multiplies by dvars\"\"\"\n",
        "  n, m = mat.shape\n",
        "  return csd.vertcat(*[ csd.horzcat(*[csd.dot(csd.gradient(mat[i,j], vars),dvars) for j in range(m)]) for i in range(n) ])"
      ],
      "execution_count": null,
      "outputs": []
    },
    {
      "cell_type": "markdown",
      "metadata": {
        "id": "OCyoSyJAyyhV"
      },
      "source": [
        "###<b>Jacobian Function</b>\n"
      ]
    },
    {
      "cell_type": "code",
      "metadata": {
        "id": "r-1GqHDhDcAI"
      },
      "source": [
        "def Jacobian(FKinematics, jParams):\n",
        "  R = FKinematics[0:3,0:3]\n",
        "  J = []\n",
        "\n",
        "  for var in jParams:\n",
        "    Td  = csd.simplify(Mat_derivative(FKinematics, var))\n",
        "\n",
        "    T   = Td[0:3, -1]          #Jv : Linear Velocity Jacobian\n",
        "    Rd  = Td[0:3,0:3]\n",
        "    Rj  = Rd @ R.T             #Jw : Angular Velocity Jacobian in SkewMatrix form\n",
        "\n",
        "    Jvar = csd.vertcat(T, csd.vertcat(Rj[2,1], Rj[0,2], Rj[1,0]))   \n",
        "    J.append(Jvar)\n",
        "  \n",
        "  return csd.horzcat(*J)"
      ],
      "execution_count": null,
      "outputs": []
    },
    {
      "cell_type": "markdown",
      "metadata": {
        "id": "no-_atxwDed5"
      },
      "source": [
        "###<b>Dynamics Function</b>\n"
      ]
    },
    {
      "cell_type": "code",
      "metadata": {
        "id": "5IT02H2OiXwZ"
      },
      "source": [
        "def InertiaMoment(mass, radius, length):\n",
        "  \"\"\"Returns the Moment of Inertia Matrix of a cylindrical link, give its dimensions\"\"\"\n",
        "  m, r, h = mass, radius, length\n",
        "  return np.array([\n",
        "      [ m/12*(3*r**2 + h**2),                    0,          0 ],\n",
        "      [                    0, m/12*(3*r**2 + h**2),          0 ],\n",
        "      [                    0,                    0, 0.5*m*r**2 ]\n",
        "  ])"
      ],
      "execution_count": null,
      "outputs": []
    },
    {
      "cell_type": "markdown",
      "metadata": {
        "id": "kRuJz4IGxah5"
      },
      "source": [
        "#####<i>Inertial Matrix</i>\n"
      ]
    },
    {
      "cell_type": "code",
      "metadata": {
        "id": "dr1craI42uqq"
      },
      "source": [
        "def LinkInertia(FKinematics, mass, mInertia, jParams):\n",
        "  \"\"\"\n",
        "  This returns the inertia matrix for a single rigid link, given the Forward \n",
        "  Kinematics of its centre of mass, the mass of the link, its moment of Inertia \n",
        "  matrix and parameters describing it and other links connected to it\n",
        "  \"\"\"\n",
        "  J = Jacobian(FKinematics, jParams)\n",
        "  Jv, Jw = J[0:3,:], J[3:6,:]\n",
        "  R = FKinematics[0:3,0:3]\n",
        "  I = mInertia\n",
        "  m = mass\n",
        "\n",
        "  D = (m * Jv.T @ Jv) + (Jw.T @ R @ I @ R.T @ Jw)\n",
        "  return D\n",
        "\n",
        "\n",
        "def InertiaBranch(fkList, massList, mInertList, jParams):\n",
        "  \"\"\"\n",
        "  Receives a list of FK of all the centres, list of all COM, list of all Moment of\n",
        "  Inertia Matrix, all parameters, then returns the Inertia\n",
        "  \"\"\"\n",
        "  hList = [ LinkInertia(fkList[i], massList[i], mInertList[i], jParams) for i in range(len(massList)) ]\n",
        "  H = reduce( lambda h1,h2:h1+h2, hList)\n",
        "  return csd.simplify(H)"
      ],
      "execution_count": null,
      "outputs": []
    },
    {
      "cell_type": "markdown",
      "metadata": {
        "id": "-8v6cPwLxg8P"
      },
      "source": [
        "#####<i>Coriolis Matrix</i>\n"
      ]
    },
    {
      "cell_type": "code",
      "metadata": {
        "id": "2IInkWuNqpV-"
      },
      "source": [
        "def CoriolisBranch(Hmat, qdots, q):\n",
        "  x, y = Hmat.shape\n",
        "  n = len(q)\n",
        "  C = SX.zeros(x,y)\n",
        "\n",
        "  for k in range(n):\n",
        "      for j in range(n):\n",
        "          C_kj = 0\n",
        "          for i in range(n):\n",
        "              c_ijk = 0.5 * (csd.gradient(Hmat[k, j], q[i]) + csd.gradient(Hmat[k, i], q[j]) - csd.gradient(Hmat[i, j], q[k]))\n",
        "              C_kj = C_kj + c_ijk*qdots[i]\n",
        "          C[k, j] = C_kj\n",
        "\n",
        "  return csd.vertcat(*[ csd.horzcat(*[C[i,j] for j in range(y)]) for i in range(x) ])"
      ],
      "execution_count": null,
      "outputs": []
    },
    {
      "cell_type": "markdown",
      "metadata": {
        "id": "QzN9volPxmdr"
      },
      "source": [
        "#####<i>Gravity Vector</i>\n"
      ]
    },
    {
      "cell_type": "code",
      "metadata": {
        "id": "J_fvvsiYtG_1"
      },
      "source": [
        "def PotentialBranch(fkcentres, q, masses, gravity=[0,0,9.81]):\n",
        "  n=len(fkcentres)\n",
        "  pos = [ cent[0:3,-1] for cent in fkcentres ]\n",
        "  Potentials = [ masses[i]*csd.dot(pos[i], gravity) for i in range(n) ]\n",
        "  PE = reduce(lambda p1,p2: p1+p2, Potentials)\n",
        "  G = csd.gradient(PE,csd.vertcat(*q))\n",
        "  \n",
        "  return G"
      ],
      "execution_count": null,
      "outputs": []
    },
    {
      "cell_type": "markdown",
      "metadata": {
        "id": "5C5Qvi9rDewH"
      },
      "source": [
        "###<b>Friction Models</b>\n"
      ]
    },
    {
      "cell_type": "markdown",
      "metadata": {
        "id": "dbGFgrZagnBY"
      },
      "source": [
        "#####<i>Stribeck Friction Model</i>\n"
      ]
    },
    {
      "cell_type": "code",
      "metadata": {
        "id": "ZAzOOc_Of2jB"
      },
      "source": [
        "class StribeckFrictionModel():\n",
        "  def __init__(self, coeffs):\n",
        "    self.coeffs= coeffs\n",
        "  \n",
        "  def instance(self, joint_angles, joint_velocities):\n",
        "    q, dq = csd.vertcat(*joint_angles), csd.vertcat(*joint_velocities)\n",
        "    a, b, c, d, e, f, g, h = self.coeffs\n",
        "    model = a*dq + b*csd.vertcat(1,1,1) + c*csd.exp(-d*csd.power(dq,2)) + e*csd.sin(q) + f*csd.cos(q) + g*csd.sin(2*q) + h*csd.cos(2*q)\n",
        "    \n",
        "    return model"
      ],
      "execution_count": null,
      "outputs": []
    },
    {
      "cell_type": "markdown",
      "metadata": {
        "id": "vCxghKoOhPD_"
      },
      "source": [
        "#####<i>Coulomb-Viscous Friction Model</i>\n"
      ]
    },
    {
      "cell_type": "code",
      "metadata": {
        "id": "Y4MwGp68hPEB"
      },
      "source": [
        "class CoulombViscousFrictionModel():\n",
        "  def __init__(self, static_friction, coulomb_coeff, viscous_coeff):\n",
        "    self.s_friction = static_friction\n",
        "    self.c_coeff = coulomb_coeff\n",
        "    self.v_coeff = viscous_coeff\n",
        "  \n",
        "  def instance(self, velocity, external_force, angle):\n",
        "    v, e_force = velocity, external_force\n",
        "    return csd.conditional(\n",
        "        all([v==0, csd.fabs(e_force)<self.s_friction]),\n",
        "        e_force,\n",
        "        csd.conditional(\n",
        "            all([v==0, csd.fabs(e_force)>=self.s_friction]),\n",
        "            self.s_friction,\n",
        "            self.c_coeff*e_force*csd.sin(angle)*csd.sign(v) + self.v_coeff*v\n",
        "        )\n",
        "    )"
      ],
      "execution_count": null,
      "outputs": []
    },
    {
      "cell_type": "markdown",
      "metadata": {
        "id": "P8HPock2DfBd"
      },
      "source": [
        "###<b>Torque Observer</b>\n"
      ]
    },
    {
      "cell_type": "code",
      "metadata": {
        "id": "kTdtcV3DhWHI"
      },
      "source": [
        "class ExternalTorqueEstimator():\n",
        "  \"\"\"ETOGainMatrix represents External Torque Observer Gain Matrix\"\"\"\n",
        "  def __init__(self, time_step, vars, d_vars, ETOGainMatrix, matrix_inertia, coriolis_matrix, gravity_vector):\n",
        "    self.step = time_step\n",
        "    self.vars = vars\n",
        "    self.d_vars = d_vars\n",
        "    self.ETOGainMatrix = ETOGainMatrix\n",
        "    self.m_inertia = matrix_inertia\n",
        "    self.c_matrix = coriolis_matrix\n",
        "    self.g_vector = gravity_vector\n",
        "  \n",
        "  def instance(self):\n",
        "    dof = len(self.vars)\n",
        "    Kr, K, h = self.ETOGainMatrix, SX.sym('control_gain'), self.step\n",
        "    M, C, G = self.m_inertia, self.c_matrix, self.g_vector\n",
        "    q, dq = self.vars, self.d_vars\n",
        "    q_prev, dq_prev = [SX.sym(f'q_prev-{i}') for i in range(dof)], [SX.sym(f'dq_prev-{i}') for i in range(dof)]\n",
        "    τ, τ_prev = [SX.sym(f'joint_torques-{i}') for i in range(dof)], [SX.sym(f'joint_torques_prev-{i}') for i in range(dof)]\n",
        "    \n",
        "    P = M@csd.vertcat(*self.d_vars)\n",
        "    dpHat = csd.Function('dpHat',[*self.vars, *self.d_vars],[K*(csd.vertcat(*τ) + csd.transpose(C)@csd.vertcat(*self.d_vars) - G) - csd.vertcat(*τ_prev)])\n",
        "    collision_judgment_index = Kr * ((h/2)*(dpHat(*q, *dq)+dpHat(*q_prev, *dq_prev)) - P)\n",
        "\n",
        "    return csd.Function(\n",
        "        'collision_judgment_index',\n",
        "        [SX.sym('time'), K, *q, *dq, *q_prev, *dq_prev, *τ, *τ_prev], \n",
        "        [collision_judgment_index]\n",
        "    )"
      ],
      "execution_count": null,
      "outputs": []
    },
    {
      "cell_type": "code",
      "metadata": {
        "id": "h2cPT-ZYr4nG"
      },
      "source": [
        "def isCollision(external_torque, friction_torque, threshold=0.01):\n",
        "  return csd.if_else(\n",
        "      csd.norm_2(external_torque - friction_torque) >= threshold,\n",
        "      True,\n",
        "      False\n",
        "  )"
      ],
      "execution_count": null,
      "outputs": []
    },
    {
      "cell_type": "markdown",
      "metadata": {
        "id": "nVUyOVZuDulR"
      },
      "source": [
        "###<b>Example on a three Link Manipulator</b>\n"
      ]
    },
    {
      "cell_type": "markdown",
      "metadata": {
        "id": "HNLY-pXMGhOa"
      },
      "source": [
        "#####<i>Variables and Structure of Manipulator</i>\n"
      ]
    },
    {
      "cell_type": "code",
      "metadata": {
        "id": "3CegW_9Mg1Gp"
      },
      "source": [
        "m1, m2, m3 =   1,   1,   1\n",
        "l1, l2, l3 = 0.5, 0.5, 0.5\n",
        "q1,   q2,  q3 =  SX.sym('θ1'),  SX.sym('θ2'),  SX.sym('θ3')\n",
        "dq1, dq2, dq3 = SX.sym('dθ1'), SX.sym('dθ2'), SX.sym('dθ3')\n",
        "\n",
        "joint_angles, joint_velocities = [q1, q2, q3], [dq1, dq2, dq3]"
      ],
      "execution_count": null,
      "outputs": []
    },
    {
      "cell_type": "code",
      "metadata": {
        "id": "kANjrrHzthHG"
      },
      "source": [
        "inertias = [ InertiaMoment(m1, 0.15, l1), InertiaMoment(m2, 0.15, l2), InertiaMoment(m3, 0.15, l3) ]"
      ],
      "execution_count": null,
      "outputs": []
    },
    {
      "cell_type": "markdown",
      "metadata": {
        "id": "N3jFLB2MGmzB"
      },
      "source": [
        "#####<i>Manipulator Kinematics</i>\n"
      ]
    },
    {
      "cell_type": "code",
      "metadata": {
        "id": "KYJc6U2PDq_j"
      },
      "source": [
        "FKinematics = Rx(q1) @ Tx(l1) @ Rx(q2) @ Tx(l2) @ Rx(q3) @ Tx(l3)"
      ],
      "execution_count": null,
      "outputs": []
    },
    {
      "cell_type": "code",
      "metadata": {
        "id": "_a0Fho3NtbyB"
      },
      "source": [
        "FKCentres = [ \n",
        "    Rx(q1) @ Tx(0.5*l1),\n",
        "    Rx(q1) @ Tx(l1) @ Rx(q2) @ Tx(0.5*l2),\n",
        "    Rx(q1) @ Tx(l1) @ Rx(q2) @ Tx(l2) @ Rx(q3) @ Tx(0.5*l3)\n",
        " ]"
      ],
      "execution_count": null,
      "outputs": []
    },
    {
      "cell_type": "markdown",
      "metadata": {
        "id": "y5R0jU1RGpsK"
      },
      "source": [
        "#####<i>Manipulator Jacobian</i>"
      ]
    },
    {
      "cell_type": "code",
      "metadata": {
        "id": "PE_nvSrXkTPz"
      },
      "source": [
        "jacobian = Jacobian(FKinematics, [q1, q2, q3])"
      ],
      "execution_count": null,
      "outputs": []
    },
    {
      "cell_type": "code",
      "metadata": {
        "colab": {
          "base_uri": "https://localhost:8080/"
        },
        "id": "KeeYdvvUHZLH",
        "outputId": "90c8a9c5-69e2-4de4-ac4f-e7b3723bf162"
      },
      "source": [
        "csd.Function('Jacobian',[*joint_angles],[jacobian])(np.pi/3,np.pi/3,np.pi/3)"
      ],
      "execution_count": null,
      "outputs": [
        {
          "output_type": "execute_result",
          "data": {
            "text/plain": [
              "DM(\n",
              "[[0, 0, 0], \n",
              " [0, 0, 0], \n",
              " [0, 0, 0], \n",
              " [1, 1, 1], \n",
              " [0, 0, 0], \n",
              " [0, 0, 0]])"
            ]
          },
          "metadata": {
            "tags": []
          },
          "execution_count": 25
        }
      ]
    },
    {
      "cell_type": "markdown",
      "metadata": {
        "id": "hYNABfWxGqoX"
      },
      "source": [
        "#####<i>Manipulator Inertia Matrix</i>"
      ]
    },
    {
      "cell_type": "code",
      "metadata": {
        "id": "v2U1p4T8nYys"
      },
      "source": [
        "inertia_matrix = InertiaBranch(FKCentres, [m1,m2,m3], inertias, [q1, q2, q3])"
      ],
      "execution_count": null,
      "outputs": []
    },
    {
      "cell_type": "code",
      "metadata": {
        "colab": {
          "base_uri": "https://localhost:8080/"
        },
        "id": "xk3Q-Ll3nud_",
        "outputId": "b017cb4f-b555-44b6-d602-4776f6c4042f"
      },
      "source": [
        "csd.Function('InertiaBranch',[*joint_angles],[inertia_matrix])(np.pi/3,np.pi/3,np.pi/3)"
      ],
      "execution_count": null,
      "outputs": [
        {
          "output_type": "execute_result",
          "data": {
            "text/plain": [
              "DM(\n",
              "[[0.079375, 0.0529167, 0.0264583], \n",
              " [0.0529167, 0.0529167, 0.0264583], \n",
              " [0.0264583, 0.0264583, 0.0264583]])"
            ]
          },
          "metadata": {
            "tags": []
          },
          "execution_count": 27
        }
      ]
    },
    {
      "cell_type": "markdown",
      "metadata": {
        "id": "kDjHso2JGref"
      },
      "source": [
        "#####<i>Manipulator Coriolis Matrix</i>"
      ]
    },
    {
      "cell_type": "code",
      "metadata": {
        "id": "17ERIR5bn7CW"
      },
      "source": [
        "coriolis_matrix = CoriolisBranch(inertia_matrix, [dq1,dq2,dq3],[q1,q2,q3])"
      ],
      "execution_count": null,
      "outputs": []
    },
    {
      "cell_type": "code",
      "metadata": {
        "colab": {
          "base_uri": "https://localhost:8080/"
        },
        "id": "CLq_h-Veuw5m",
        "outputId": "23e98c8d-987c-4b6f-d24d-a4f59dd3d277"
      },
      "source": [
        "csd.Function('CoriolisBranch',[*joint_angles,*joint_velocities],[coriolis_matrix])(np.pi/3,np.pi/3,np.pi/3,0.1,0.1,0.1)"
      ],
      "execution_count": null,
      "outputs": [
        {
          "output_type": "execute_result",
          "data": {
            "text/plain": [
              "DM(\n",
              "[[-1.38778e-18, -2.50373e-18, -1.46289e-18], \n",
              " [6.93889e-19, -6.93889e-19, -1.31266e-18], \n",
              " [1.56125e-18, 1.04083e-18, 5.20417e-19]])"
            ]
          },
          "metadata": {
            "tags": []
          },
          "execution_count": 29
        }
      ]
    },
    {
      "cell_type": "markdown",
      "metadata": {
        "id": "HupH9mCFGsbe"
      },
      "source": [
        "#####<i>Manipulator Gravity Vector</i>"
      ]
    },
    {
      "cell_type": "code",
      "metadata": {
        "id": "LfamYp8AvGsp"
      },
      "source": [
        "gravity_vector = PotentialBranch(FKCentres, [q1,q2,q3], [m1,m2,m3])"
      ],
      "execution_count": null,
      "outputs": []
    },
    {
      "cell_type": "code",
      "metadata": {
        "colab": {
          "base_uri": "https://localhost:8080/"
        },
        "id": "sr57ofJjHSzh",
        "outputId": "71ba6349-ccb7-4364-9064-2e5747e16b5a"
      },
      "source": [
        "csd.Function('PotentialBranch',[q1, q2, q3],[gravity_vector])(np.pi/3,np.pi/3,np.pi/3)"
      ],
      "execution_count": null,
      "outputs": [
        {
          "output_type": "execute_result",
          "data": {
            "text/plain": [
              "DM([0, 0, 0])"
            ]
          },
          "metadata": {
            "tags": []
          },
          "execution_count": 31
        }
      ]
    },
    {
      "cell_type": "markdown",
      "metadata": {
        "id": "x7DdWQPLKIz3"
      },
      "source": [
        "#####<i>Manipulator Friction Model</i>"
      ]
    },
    {
      "cell_type": "code",
      "metadata": {
        "id": "ceFlIvDZwjX1"
      },
      "source": [
        "friction_model = StribeckFrictionModel([1,1,1,1,1,1,1,1])\n",
        "ThreeLinkFrictionModel = csd.Function(\n",
        "    'StribeckFrictionModel',\n",
        "    [*joint_angles, *joint_velocities],\n",
        "    [friction_model.instance(joint_angles, joint_velocities)]\n",
        ")"
      ],
      "execution_count": null,
      "outputs": []
    },
    {
      "cell_type": "code",
      "metadata": {
        "colab": {
          "base_uri": "https://localhost:8080/"
        },
        "id": "Q9wTr90Whz5f",
        "outputId": "61e4220a-e098-4cc0-bbfc-78ae02d98a7d"
      },
      "source": [
        "ThreeLinkFrictionModel(*[ np.pi/3 for _ in range(6) ])"
      ],
      "execution_count": null,
      "outputs": [
        {
          "output_type": "execute_result",
          "data": {
            "text/plain": [
              "DM([4.11325, 4.11325, 4.11325])"
            ]
          },
          "metadata": {
            "tags": []
          },
          "execution_count": 76
        }
      ]
    },
    {
      "cell_type": "markdown",
      "metadata": {
        "id": "THjaLqyxxren"
      },
      "source": [
        "#####<i>Manipulator Torque Estimator Function</i>"
      ]
    },
    {
      "cell_type": "code",
      "metadata": {
        "id": "KOJvX6R1xreo"
      },
      "source": [
        "ThreeLinkExternalTorqueEstimator = ExternalTorqueEstimator(\n",
        "  time_step=0.1,\n",
        "  vars=joint_angles,\n",
        "  d_vars=joint_velocities,\n",
        "  ETOGainMatrix=10**3, \n",
        "  matrix_inertia=inertia_matrix, \n",
        "  coriolis_matrix=coriolis_matrix, \n",
        "  gravity_vector=gravity_vector\n",
        ")"
      ],
      "execution_count": null,
      "outputs": []
    },
    {
      "cell_type": "code",
      "metadata": {
        "colab": {
          "base_uri": "https://localhost:8080/"
        },
        "id": "_j53cyOjvLPB",
        "outputId": "f5b15cfb-6d5a-41d6-d518-882d7451bbd8"
      },
      "source": [
        "(ThreeLinkExternalTorqueEstimator.instance())(*[ 0 for _ in range(20)])"
      ],
      "execution_count": null,
      "outputs": [
        {
          "output_type": "execute_result",
          "data": {
            "text/plain": [
              "DM([0, 0, 0])"
            ]
          },
          "metadata": {
            "tags": []
          },
          "execution_count": 123
        }
      ]
    },
    {
      "cell_type": "code",
      "metadata": {
        "id": "F82AWpUBtElt"
      },
      "source": [
        "def ThreeLinkContactDetector(time, control_gain, joint_angles, joint_velocity, joint_angles_prev, joint_velocity_prev, joint_torque, joint_torque_prev):\n",
        "  estimator = ThreeLinkExternalTorqueEstimator.instance()\n",
        "  external_torque = estimator(\n",
        "      time, \n",
        "      control_gain,\n",
        "      *joint_angles, \n",
        "      *joint_velocity, \n",
        "      *joint_angles_prev, \n",
        "      *joint_velocity_prev, \n",
        "      *joint_torque, \n",
        "      *joint_torque_prev\n",
        "  )\n",
        "  friction_torque = ThreeLinkFrictionModel(*joint_angles, *joint_velocity)\n",
        "  return isCollision(external_torque, friction_torque, threshold=0.01)"
      ],
      "execution_count": null,
      "outputs": []
    },
    {
      "cell_type": "markdown",
      "metadata": {
        "id": "ZNs0z8TGxn9e"
      },
      "source": [
        "#####<i>Joint Torque Model</i>"
      ]
    },
    {
      "cell_type": "code",
      "metadata": {
        "id": "w4vDCPwYxi3p"
      },
      "source": [
        ""
      ],
      "execution_count": null,
      "outputs": []
    }
  ]
}